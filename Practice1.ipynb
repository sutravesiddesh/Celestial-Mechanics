{
 "cells": [
  {
   "cell_type": "code",
   "execution_count": 1,
   "id": "1b7d47f3-e588-4986-aab4-5583b80957e3",
   "metadata": {
    "tags": []
   },
   "outputs": [],
   "source": [
    "class Person:\n",
    "    def __init__(self, name, age):\n",
    "        self.name = name\n",
    "        self.age = age"
   ]
  },
  {
   "cell_type": "code",
   "execution_count": 2,
   "id": "1bc39905-43e1-470e-b7ac-63a72b4628e5",
   "metadata": {
    "tags": []
   },
   "outputs": [
    {
     "name": "stdout",
     "output_type": "stream",
     "text": [
      "My name is Maarten\n",
      "My age is 30\n"
     ]
    }
   ],
   "source": [
    "author = Person(\"Maarten\", 30)\n",
    "print(\"My name is \" + author.name)\n",
    "print(\"My age is \" + str(author.age))"
   ]
  },
  {
   "cell_type": "code",
   "execution_count": 3,
   "id": "2091dddb-aa2c-4097-b6a8-99c2e4127477",
   "metadata": {
    "tags": []
   },
   "outputs": [
    {
     "name": "stdout",
     "output_type": "stream",
     "text": [
      "My name is Maarten\n",
      "My age is 30\n"
     ]
    }
   ],
   "source": [
    "class Person:\n",
    "    def __init__(self, name, age):\n",
    "        self.name = name\n",
    "        self.age = age\n",
    "        \n",
    "        \n",
    "    def introduceyourself(self):\n",
    "        print(\"My name is \" + self.name)\n",
    "        print(\"My age is \" + str(self.age))\n",
    "        \n",
    "author = Person(\"Maarten\",30)\n",
    "author.introduceyourself()"
   ]
  },
  {
   "cell_type": "code",
   "execution_count": 5,
   "id": "ddcc83ad-d391-4a46-af72-854bcda3adec",
   "metadata": {
    "tags": []
   },
   "outputs": [
    {
     "name": "stdout",
     "output_type": "stream",
     "text": [
      "My name is Maarten\n",
      "My age is 30\n",
      "True\n"
     ]
    }
   ],
   "source": [
    "class Person:\n",
    "    def __init__(self, name, age, gender):\n",
    "        self.name = name\n",
    "        self.age = age\n",
    "        self.gender = gender\n",
    "    \n",
    "    def introduceyourself(self):\n",
    "        print(\"My name is \" + self.name)\n",
    "        print(\"My age is \" + str(self.age))\n",
    "    \n",
    "    def ismale(self):\n",
    "        return self.gender.lower()=='male'\n",
    "        \n",
    "author = Person(\"Maarten\",30,\"male\")\n",
    "author.introduceyourself()\n",
    "print(author.ismale())"
   ]
  },
  {
   "cell_type": "code",
   "execution_count": 6,
   "id": "c18c3178-f020-4a95-880f-07f5a4b88f30",
   "metadata": {
    "tags": []
   },
   "outputs": [],
   "source": [
    "class Person:\n",
    "    def __init__(self, name, age):\n",
    "        self.name = name\n",
    "        self.age = age\n",
    "        \n",
    "    def introduceyourself(self):\n",
    "        print(\"My name is \" + self.name)\n",
    "        print(\"My age is \" + str(self.age))\n",
    "\n",
    "        \n",
    "class Teacher(Person): #this class inherits the class above!\n",
    "    def stateprofession(self):\n",
    "        print(\"I am a teacher!\")"
   ]
  },
  {
   "cell_type": "code",
   "execution_count": 7,
   "id": "e383d27b-e45d-441f-9d9b-ea6408ce77f5",
   "metadata": {
    "tags": []
   },
   "outputs": [
    {
     "name": "stdout",
     "output_type": "stream",
     "text": [
      "My name is Maarten\n",
      "My age is 30\n",
      "I am a teacher!\n"
     ]
    }
   ],
   "source": [
    "author = Teacher(\"Maarten\",30)\n",
    "author.introduceyourself()\n",
    "author.stateprofession()"
   ]
  },
  {
   "cell_type": "code",
   "execution_count": 8,
   "id": "84f3da88-c177-4791-8c1b-cc05a926de50",
   "metadata": {
    "tags": []
   },
   "outputs": [
    {
     "name": "stdout",
     "output_type": "stream",
     "text": [
      "My name is Maarten\n",
      "My age is 30\n",
      "I am a teacher!\n",
      "I teach 1 course(s)\n",
      "I teach Python\n"
     ]
    }
   ],
   "source": [
    "class Teacher(Person): #this class inherits the class above!\n",
    "    def __init__(self, name, age):\n",
    "        self.courses = [] #initialise a new variable\n",
    "        super().__init__(name,age) #call the init of Person\n",
    "        \n",
    "    def stateprofession(self):\n",
    "        print(\"I am a teacher!\")        \n",
    "    \n",
    "    def introduceyourself(self):\n",
    "        super().introduceyourself() #call the introduceyourself() of the Person\n",
    "        self.stateprofession()\n",
    "        print(\"I teach \" + str(self.nrofcourses()) + \" course(s)\")\n",
    "        for course in self.courses:\n",
    "            print(\"I teach \" + course)\n",
    "      \n",
    "        \n",
    "    \n",
    "    def addcourse(self, course):\n",
    "        self.courses.append(course)\n",
    "        \n",
    "    def nrofcourses(self):\n",
    "        return len(self.courses)\n",
    "    \n",
    "    \n",
    "author = Teacher(\"Maarten\",30)\n",
    "author.addcourse(\"Python\")\n",
    "author.introduceyourself()\n"
   ]
  },
  {
   "cell_type": "code",
   "execution_count": 9,
   "id": "3b309787-d688-4daf-aab9-e7ee8510463b",
   "metadata": {
    "tags": []
   },
   "outputs": [
    {
     "name": "stdout",
     "output_type": "stream",
     "text": [
      "True\n"
     ]
    }
   ],
   "source": [
    "class Tweet:\n",
    "    def __init__(self, message, time):\n",
    "        self.message = message\n",
    "        self.time = time # we will assume here that time is a numerical value\n",
    "        \n",
    "    def __lt__(self, other):\n",
    "        return self.time < other.time\n",
    "        \n",
    "    def __gt__(self, other):\n",
    "        return self.time > other.time    \n",
    "    \n",
    "\n",
    "oldtweet = Tweet(\"this is an old tweet\",20)\n",
    "newtweet = Tweet(\"this is a new tweet\",1000)\n",
    "print(newtweet > oldtweet)\n",
    "        "
   ]
  },
  {
   "cell_type": "code",
   "execution_count": 10,
   "id": "9183a105-b1b4-4835-9051-26f0d32148f1",
   "metadata": {
    "tags": []
   },
   "outputs": [
    {
     "name": "stdout",
     "output_type": "stream",
     "text": [
      "this is an old tweet\n",
      "this is a new tweet\n"
     ]
    }
   ],
   "source": [
    "tweets = [newtweet,oldtweet]\n",
    "\n",
    "for tweet in sorted(tweets):\n",
    "    print(tweet.message)"
   ]
  },
  {
   "cell_type": "code",
   "execution_count": 11,
   "id": "f7e62f71-c1f9-4df5-a74c-95b41a94486f",
   "metadata": {
    "tags": []
   },
   "outputs": [
    {
     "name": "stdout",
     "output_type": "stream",
     "text": [
      "True\n"
     ]
    }
   ],
   "source": [
    "fruits = ['banana','pear','orange']\n",
    "print('pear' in fruits)"
   ]
  },
  {
   "cell_type": "code",
   "execution_count": null,
   "id": "3f2b0995-6368-4e1d-8a6a-7091dc7959a6",
   "metadata": {},
   "outputs": [],
   "source": [
    "class Tweet:\n",
    "    def __init__(self, message, time):\n",
    "        self.message = message\n",
    "        self.time = time\n",
    "\n",
    "    def __lt__(self, other):\n",
    "        return self.time < other.time\n",
    "        \n",
    "    def __contains__(self, word):\n",
    "        #Implement the method\n",
    "        return(word in self.message)\n",
    "\n",
    "tweet = \"I just flushed my toilet\"\n",
    "#now write code to check if the word \"flushed\" is in the tweet\n",
    "#and print something nice if that's the case\n"
   ]
  }
 ],
 "metadata": {
  "kernelspec": {
   "display_name": "Python 3 (ipykernel)",
   "language": "python",
   "name": "python3"
  },
  "language_info": {
   "codemirror_mode": {
    "name": "ipython",
    "version": 3
   },
   "file_extension": ".py",
   "mimetype": "text/x-python",
   "name": "python",
   "nbconvert_exporter": "python",
   "pygments_lexer": "ipython3",
   "version": "3.11.4"
  }
 },
 "nbformat": 4,
 "nbformat_minor": 5
}
