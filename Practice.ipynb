{
 "cells": [
  {
   "cell_type": "code",
   "execution_count": 9,
   "id": "fee73679-841e-4f64-b108-3bc6c215dd69",
   "metadata": {
    "tags": []
   },
   "outputs": [
    {
     "name": "stdout",
     "output_type": "stream",
     "text": [
      "dict_values(['Kumar', 'New Dehli', '21'])\n"
     ]
    }
   ],
   "source": [
    "import json\n",
    "\n",
    "json_string = '{\"name\": \"Kumar\",\"city\": \"New Dehli\",\"age\" : \"21\"}'\n",
    "parsed_json = json.loads(json_string)\n",
    "print(parsed_json.values())"
   ]
  },
  {
   "cell_type": "code",
   "execution_count": 22,
   "id": "31dfcede-5315-43e8-a4e6-f6fba64f062c",
   "metadata": {
    "tags": []
   },
   "outputs": [
    {
     "name": "stdout",
     "output_type": "stream",
     "text": [
      "dict_items([('persons', [{'city': 'Seattle', 'name': 'Brian'}, {'city': 'Amsterdam', 'name': 'David'}])])\n",
      "dict_keys(['persons'])\n",
      "dict_values([[{'city': 'Seattle', 'name': 'Brian'}, {'city': 'Amsterdam', 'name': 'David'}]])\n"
     ]
    }
   ],
   "source": [
    "data_file = open('example.json')\n",
    "json_string = data_file.read()\n",
    "data = json.loads(json_string)\n",
    "\n",
    "print(data.items())\n",
    "print(data.keys())\n",
    "print(data.values())"
   ]
  },
  {
   "cell_type": "code",
   "execution_count": 33,
   "id": "dbddebfd-5b16-4efd-a105-e43a5bcaf560",
   "metadata": {
    "tags": []
   },
   "outputs": [
    {
     "name": "stdout",
     "output_type": "stream",
     "text": [
      "Number of rows: 3\n",
      "Columns: ['name', 'type', 'size', 'modified']\n"
     ]
    }
   ],
   "source": [
    "import csv\n",
    "\n",
    "with open('example.csv', newline='') as handle:\n",
    "    data = list(csv.DictReader(handle))\n",
    "\n",
    "num_rows = len(data)\n",
    "print(f\"Number of rows: {num_rows}\")\n",
    "\n",
    "if num_rows > 0:\n",
    "    num_coloumns = data[0].keys()\n",
    "    \n",
    "print(f\"Columns: {list(num_coloumns)}\")"
   ]
  },
  {
   "cell_type": "code",
   "execution_count": null,
   "id": "4710e361-1daf-4216-b7be-322f43662e2e",
   "metadata": {},
   "outputs": [],
   "source": []
  }
 ],
 "metadata": {
  "kernelspec": {
   "display_name": "Python 3 (ipykernel)",
   "language": "python",
   "name": "python3"
  },
  "language_info": {
   "codemirror_mode": {
    "name": "ipython",
    "version": 3
   },
   "file_extension": ".py",
   "mimetype": "text/x-python",
   "name": "python",
   "nbconvert_exporter": "python",
   "pygments_lexer": "ipython3",
   "version": "3.11.4"
  }
 },
 "nbformat": 4,
 "nbformat_minor": 5
}
